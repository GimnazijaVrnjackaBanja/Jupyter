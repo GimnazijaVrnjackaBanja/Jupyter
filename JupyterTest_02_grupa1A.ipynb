{
 "nbformat": 4,
 "nbformat_minor": 2,
 "metadata": {
  "language_info": {
   "name": "python",
   "codemirror_mode": {
    "name": "ipython",
    "version": 3
   },
   "version": "3.6.7-final"
  },
  "orig_nbformat": 2,
  "file_extension": ".py",
  "mimetype": "text/x-python",
  "name": "python",
  "npconvert_exporter": "python",
  "pygments_lexer": "ipython3",
  "version": 3,
  "kernelspec": {
   "name": "python36764bit45d978ad54fb4fe88a83c763698de588",
   "display_name": "Python 3.6.7 64-bit"
  }
 },
 "cells": [
  {
   "cell_type": "markdown",
   "metadata": {},
   "source": [
    "# Џупитер (Jupyter) тест број 2 група 1\n"
   ]
  },
  {
   "cell_type": "markdown",
   "metadata": {},
   "source": [
    "## Сваки задатак носи 1 бод. Укупно има 6 задатака. \n",
    "## Критеријум за оцењивање: \n",
    "\n",
    "|  Бодови    | |  Оцена |\n",
    "|----------|----|-------|\n",
    "|   1       |-->|   1|\n",
    "|   2       |-->|2|\n",
    "|   3       |-->|3|\n",
    "|   4       |-->|4|\n",
    "|   5 - 6   |-->|5|\n",
    "\n",
    "## На крају рада свеску преузмите са Биндер портала и снимите на ваш радни диск као **Notebook (.ipynb)** фајл. Фајл преименујте у `PrezimeIme.ipynb`."
   ]
  },
  {
   "cell_type": "markdown",
   "metadata": {},
   "source": [
    "## У ћелију испод унеси своје презиме, име и одељење"
   ]
  },
  {
   "cell_type": "markdown",
   "metadata": {},
   "source": []
  },
  {
   "cell_type": "code",
   "execution_count": 1,
   "metadata": {},
   "outputs": [],
   "source": [
    "nizA=[2,3,8,4,-5,-7,3,2,6,8,1,4,-2,9,1,3,5,-4,0,4,5,6,9,3,9,6,7,-7,-7,0,3,4,5,1,-7,9,-8]"
   ]
  },
  {
   "cell_type": "code",
   "execution_count": 10,
   "metadata": {},
   "outputs": [],
   "source": [
    "nizB=[2,3,8,-8,-5,-7,3,2,6,-8,1,4,-2,9,1,3,5,-4,4,-8,6,9,3,9,6,7,-7,-7,-8,4,5,1,-7,9]"
   ]
  },
  {
   "cell_type": "code",
   "execution_count": 3,
   "metadata": {},
   "outputs": [],
   "source": [
    "rec='leleleleleleeeeellellelellelelelelellelelekakvizadaci'"
   ]
  },
  {
   "cell_type": "code",
   "execution_count": null,
   "metadata": {},
   "outputs": [],
   "source": [
    "nizD=[22000, 35000, 41000, 38000, 35000, 39000, 48000, 36000, 41000, 33000]"
   ]
  },
  {
   "cell_type": "markdown",
   "metadata": {},
   "source": [
    "**Задатак 1.** Напиши функцију `max_niza` која за дати низ X рачуна и враћа највећи елемент, али без употребе стандардне функције `max`. Написану функцију искористи за налажење највећег елемента датог низа који се зове `nizA`.\n"
   ]
  },
  {
   "cell_type": "markdown",
   "metadata": {},
   "source": [
    "**Задатак 2.** Напиши функцију `prebroj_min` која за дати низ X пребројава колико има елемената низа који су једнаки најмањем елементу тог низа. Применити је на низ `nizB`. Дозвољено је користити уграђене функције."
   ]
  },
  {
   "cell_type": "markdown",
   "metadata": {},
   "source": [
    "**Задатак 3.** Напиши функцију `prebroj_е` која у датом стрингу пребројава колико има слова \"е\". Применити је на стринг `rec` који је дат."
   ]
  },
  {
   "cell_type": "markdown",
   "metadata": {},
   "source": [
    "**Задатак 4.** Написати Пајтон функцију `saberi_cifre` која за дати позитиван цео број утврђује збир његових цифара. На пример,\n",
    "\n",
    "`saberi_cifre(354679)`\n",
    "треба да врати\n",
    "\n",
    "`34`\n",
    "\n",
    "зато што је `3 + 5 + 4 + 6 + 7 + 9 = 34`."
   ]
  },
  {
   "cell_type": "markdown",
   "metadata": {},
   "source": [
    "**Задатак 5.** Написати Пајтон функцију која налази производ чланова датог низа. Применити је на низ `nizB`."
   ]
  },
  {
   "cell_type": "markdown",
   "metadata": {},
   "source": [
    "**Задатак 6.** Написати функцију која налази просек датог низа. Применити је на низ `nizB`."
   ]
  }
 ]
}