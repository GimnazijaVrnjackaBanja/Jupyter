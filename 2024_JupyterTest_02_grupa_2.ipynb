{
 "cells": [
  {
   "cell_type": "markdown",
   "metadata": {},
   "source": [
    "## 2024 Џупитер (Jupyter) тест број 2 група 2\n"
   ]
  },
  {
   "cell_type": "markdown",
   "metadata": {},
   "source": [
    "### Сваки задатак носи 1 бод. Укупно има 6 задатака. \n",
    "### Критеријум за оцењивање: \n",
    "\n",
    "|  Бодови    | |  Оцена |\n",
    "|----------|----|-------|\n",
    "|   1       |-->|   1|\n",
    "|   2       |-->|2|\n",
    "|   3       |-->|3|\n",
    "|   4       |-->|4|\n",
    "|   5 - 6   |-->|5|\n",
    "\n",
    "### На крају рада свеску преузмите са Биндер портала и снимите на ваш радни диск као **Notebook (.ipynb)** фајл. Фајл преименујте у `PrezimeIme.ipynb`. \n",
    "### Тај фајл предајете кроз Теамс задатак са **Turn in**."
   ]
  },
  {
   "cell_type": "markdown",
   "metadata": {},
   "source": [
    "## У ћелију испод унеси своје презиме, име и одељење"
   ]
  },
  {
   "cell_type": "markdown",
   "metadata": {},
   "source": []
  },
  {
   "cell_type": "markdown",
   "metadata": {},
   "source": [
    "### Zadatak 1: Linijski dijagram\n",
    "Nacrtaj linijski dijagram koji prikazuje promenu broja posetilaca muzeja tokom nedelje.\n"
   ]
  },
  {
   "cell_type": "code",
   "execution_count": 1,
   "metadata": {},
   "outputs": [],
   "source": [
    "dani = ['Ponedeljak', 'Utorak', 'Sreda', 'Četvrtak', 'Petak', 'Subota', 'Nedelja']\n",
    "posetioci = [50, 60, 70, 80, 90, 100, 110]"
   ]
  },
  {
   "cell_type": "markdown",
   "metadata": {},
   "source": [
    "### Zadatak 2: Stubičasti dijagram\n",
    "Nacrtaj stubičasti dijagram koji prikazuje broj prodatih automobila različitih marki.\n"
   ]
  },
  {
   "cell_type": "code",
   "execution_count": 2,
   "metadata": {},
   "outputs": [],
   "source": [
    "marke = ['Toyota', 'Ford', 'BMW', 'Audi', 'Mercedes']\n",
    "broj_prodatih = [150, 120, 100, 90, 80]"
   ]
  },
  {
   "cell_type": "markdown",
   "metadata": {},
   "source": [
    "### Zadatak 3: Kružni dijagram\n",
    "Nacrtaj kružni dijagram koji prikazuje procenat vremena provedenog na različitim sportovima tokom nedelje.\n"
   ]
  },
  {
   "cell_type": "code",
   "execution_count": 3,
   "metadata": {},
   "outputs": [],
   "source": [
    "sportovi = ['Fudbal', 'Košarka', 'Tenis', 'Plivanje', 'Trčanje']\n",
    "vreme = [5, 3, 2, 4, 6]"
   ]
  },
  {
   "cell_type": "markdown",
   "metadata": {},
   "source": [
    "### Zadatak 4: Histogram\n",
    "Nacrtaj histogram koji prikazuje distribuciju visine učenika u razredu.\n"
   ]
  },
  {
   "cell_type": "code",
   "execution_count": 4,
   "metadata": {},
   "outputs": [],
   "source": [
    "visine = [150, 155, 160, 165, 170, 175, 180, 185, 190, 195, 200]"
   ]
  },
  {
   "cell_type": "markdown",
   "metadata": {},
   "source": [
    "### Zadatak 5: Scatter plot\n",
    "Nacrtaj scatter plot koji prikazuje starost i težinu pasa."
   ]
  },
  {
   "cell_type": "code",
   "execution_count": 5,
   "metadata": {},
   "outputs": [],
   "source": [
    "starost = [1, 2, 3, 4, 5, 6, 7, 8, 9, 10]\n",
    "tezina = [5, 10, 15, 20, 25, 30, 35, 40, 45, 50]"
   ]
  },
  {
   "cell_type": "markdown",
   "metadata": {},
   "source": [
    "### Zadatak 6: Višestruki linijski dijagram\n",
    "Nacrtaj višestruki linijski dijagram koji prikazuje promenu broja posetilaca i prihoda muzeja tokom nedelje."
   ]
  },
  {
   "cell_type": "code",
   "execution_count": 1,
   "metadata": {},
   "outputs": [],
   "source": [
    "dani = ['Ponedeljak', 'Utorak', 'Sreda', 'Četvrtak', 'Petak', 'Subota', 'Nedelja']\n",
    "posetioci = [50, 60, 70, 80, 90, 100, 110]\n",
    "prihodi = [500, 600, 700, 800, 900, 1000, 1100]\n"
   ]
  }
 ],
 "metadata": {
  "file_extension": ".py",
  "kernelspec": {
   "display_name": "Python 3",
   "language": "python",
   "name": "python3"
  },
  "language_info": {
   "codemirror_mode": {
    "name": "ipython",
    "version": 3
   },
   "file_extension": ".py",
   "mimetype": "text/x-python",
   "name": "python",
   "nbconvert_exporter": "python",
   "pygments_lexer": "ipython3",
   "version": "3.12.2"
  },
  "mimetype": "text/x-python",
  "name": "python",
  "npconvert_exporter": "python",
  "orig_nbformat": 2,
  "pygments_lexer": "ipython3",
  "version": 3
 },
 "nbformat": 4,
 "nbformat_minor": 2
}
