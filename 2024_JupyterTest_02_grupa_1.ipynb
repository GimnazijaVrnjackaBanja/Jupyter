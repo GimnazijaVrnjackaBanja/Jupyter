{
 "cells": [
  {
   "cell_type": "markdown",
   "metadata": {},
   "source": [
    "## 2024 Џупитер (Jupyter) тест број 2 група 1\n"
   ]
  },
  {
   "cell_type": "markdown",
   "metadata": {},
   "source": [
    "### Сваки задатак носи 1 бод. Укупно има 6 задатака. \n",
    "### Критеријум за оцењивање: \n",
    "\n",
    "|  Бодови    | |  Оцена |\n",
    "|----------|----|-------|\n",
    "|   1       |-->|   1|\n",
    "|   2       |-->|2|\n",
    "|   3       |-->|3|\n",
    "|   4       |-->|4|\n",
    "|   5 - 6   |-->|5|\n",
    "\n",
    "### На крају рада свеску преузмите са Биндер портала и снимите на ваш радни диск као **Notebook (.ipynb)** фајл. Фајл преименујте у `PrezimeIme.ipynb`. \n",
    "### Тај фајл предајете кроз Теамс задатак са **Turn in**."
   ]
  },
  {
   "cell_type": "markdown",
   "metadata": {},
   "source": [
    "## У ћелију испод унеси своје презиме, име и одељење"
   ]
  },
  {
   "cell_type": "markdown",
   "metadata": {},
   "source": []
  },
  {
   "cell_type": "markdown",
   "metadata": {},
   "source": [
    "### Zadatak 1: Linijski dijagram\n",
    "Nacrtaj linijski dijagram koji prikazuje promenu temperature tokom dana. Temperature su zabeležene svakog sata od 6h do 18h.\n"
   ]
  },
  {
   "cell_type": "code",
   "execution_count": 1,
   "metadata": {},
   "outputs": [],
   "source": [
    "sati = [6, 7, 8, 9, 10, 11, 12, 13, 14, 15, 16, 17, 18]\n",
    "temperature = [15, 16, 18, 20, 22, 24, 26, 27, 28, 27, 25, 23, 21]"
   ]
  },
  {
   "cell_type": "markdown",
   "metadata": {},
   "source": [
    "### Zadatak 2: Stubičasti dijagram\n",
    "Nacrtaj stubičasti dijagram koji prikazuje broj prodatih knjiga u različitim žanrovima.\n"
   ]
  },
  {
   "cell_type": "code",
   "execution_count": 2,
   "metadata": {},
   "outputs": [],
   "source": [
    "zanrovi = ['Fikcija', 'Nauka', 'Istorija', 'Biografija', 'Fantazija']\n",
    "broj_prodatih = [120, 80, 90, 70, 100]"
   ]
  },
  {
   "cell_type": "markdown",
   "metadata": {},
   "source": [
    "### Zadatak 3: Kružni dijagram\n",
    "Nacrtaj kružni dijagram koji prikazuje procenat vremena provedenog na različitim aktivnostima tokom dana.\n"
   ]
  },
  {
   "cell_type": "code",
   "execution_count": 3,
   "metadata": {},
   "outputs": [],
   "source": [
    "aktivnosti = ['Spavanje', 'Škola', 'Vežbanje', 'Igranje', 'Učenje']\n",
    "vreme = [8, 6, 2, 4, 4]"
   ]
  },
  {
   "cell_type": "markdown",
   "metadata": {},
   "source": [
    "### Zadatak 4: Histogram\n",
    "Nacrtaj histogram koji prikazuje distribuciju ocena učenika na testu."
   ]
  },
  {
   "cell_type": "code",
   "execution_count": 4,
   "metadata": {},
   "outputs": [],
   "source": [
    "ocene = [5, 6, 7, 8, 9, 10, 5, 6, 7, 8, 9, 10, 5, 6, 7, 8, 9, 10]"
   ]
  },
  {
   "cell_type": "markdown",
   "metadata": {},
   "source": [
    "### Zadatak 5: Scatter plot\n",
    "Nacrtaj scatter plot koji prikazuje visinu i težinu učenika."
   ]
  },
  {
   "cell_type": "code",
   "execution_count": 5,
   "metadata": {},
   "outputs": [],
   "source": [
    "visina = [150, 160, 170, 180, 190, 200]\n",
    "tezina = [50, 60, 70, 80, 90, 100]"
   ]
  },
  {
   "cell_type": "markdown",
   "metadata": {},
   "source": [
    "### Zadatak 6: Višestruki linijski dijagram\n",
    "Nacrtaj višestruki linijski dijagram koji prikazuje promenu temperature i vlažnosti tokom dana."
   ]
  },
  {
   "cell_type": "code",
   "execution_count": 5,
   "metadata": {},
   "outputs": [],
   "source": [
    "sati = [6, 7, 8, 9, 10, 11, 12, 13, 14, 15, 16, 17, 18]\n",
    "temperature = [15, 16, 18, 20, 22, 24, 26, 27, 28, 27, 25, 23, 21]\n",
    "vlaznost = [80, 78, 75, 70, 65, 60, 55, 50, 45, 50, 55, 60, 65]\n"
   ]
  }
 ],
 "metadata": {
  "file_extension": ".py",
  "kernelspec": {
   "display_name": "Python 3",
   "language": "python",
   "name": "python3"
  },
  "language_info": {
   "codemirror_mode": {
    "name": "ipython",
    "version": 3
   },
   "file_extension": ".py",
   "mimetype": "text/x-python",
   "name": "python",
   "nbconvert_exporter": "python",
   "pygments_lexer": "ipython3",
   "version": "3.12.2"
  },
  "mimetype": "text/x-python",
  "name": "python",
  "npconvert_exporter": "python",
  "orig_nbformat": 2,
  "pygments_lexer": "ipython3",
  "version": 3
 },
 "nbformat": 4,
 "nbformat_minor": 2
}
