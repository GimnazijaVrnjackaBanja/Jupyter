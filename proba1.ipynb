{
 "nbformat": 4,
 "nbformat_minor": 2,
 "metadata": {
  "language_info": {
   "name": "python",
   "codemirror_mode": {
    "name": "ipython",
    "version": 3
   },
   "version": "3.6.7"
  },
  "orig_nbformat": 2,
  "file_extension": ".py",
  "mimetype": "text/x-python",
  "name": "python",
  "npconvert_exporter": "python",
  "pygments_lexer": "ipython3",
  "version": 3
 },
 "cells": [
  {
   "cell_type": "markdown",
   "execution_count": null,
   "metadata": {},
   "outputs": [],
   "source": [
    "# Џупајтер тест број 1\n"
   ]
  },
  {
   "cell_type": "markdown",
   "execution_count": null,
   "metadata": {},
   "outputs": [],
   "source": [
    "## У ћелију испод унеси своје презиме, име и одељење"
   ]
  },
  {
   "cell_type": "markdown",
   "execution_count": null,
   "metadata": {},
   "outputs": [],
   "source": []
  },
  {
   "cell_type": "markdown",
   "execution_count": null,
   "metadata": {},
   "outputs": [],
   "source": [
    "**Задатак 1.** Направи ћелију испод ове и у њој напиши Пајтон израз који налази број који се добија када се разлици бројева 995 и 132 дода производ бројева 16 и 34.\n"
   ]
  },
  {
   "cell_type": "markdown",
   "execution_count": null,
   "metadata": {},
   "outputs": [],
   "source": [
    "**Задатак 2.** Нађи осми степен броја 12.34."
   ]
  },
  {
   "cell_type": "markdown",
   "execution_count": null,
   "metadata": {},
   "outputs": [],
   "source": [
    "**Задатак 3.** Променљива `BrLjudiNaSvetu_2019` има вредност 7.714.576.923. Процењује се да 27,8% становништва света живи у градовима. Направи ћелију испод и нађи колико људи живи ван градова."
   ]
  },
  {
   "cell_type": "markdown",
   "execution_count": null,
   "metadata": {},
   "outputs": [],
   "source": [
    "**Задатак 4.** Милица је желела да купи панталоне које су коштале 13.799,99 динара, али јој је мама рекла да су прескупе. Зато је Милица сачекала сезону снижења и када је следећи пут обишла продавницу видела је да је цена панталона снижена за 33%. Мама је пристала да јој купи панталоне по сниженој цени. Када су дошле до касе пријатно су биле изненађене чињеницом да су добиле попуст од 5% на већ снижену цену зато што је њена мама панталоне платила готовином. Колико су на крају коштале панталоне?"
   ]
  },
  {
   "cell_type": "code",
   "execution_count": null,
   "metadata": {},
   "outputs": [],
   "source": []
  },
  {
   "cell_type": "code",
   "execution_count": 2,
   "metadata": {},
   "outputs": [
    {
     "data": {
      "text/plain": "537676775.1082385"
     },
     "execution_count": 2,
     "metadata": {},
     "output_type": "execute_result"
    }
   ],
   "source": [
    "12.34**8"
   ]
  }
 ]
}