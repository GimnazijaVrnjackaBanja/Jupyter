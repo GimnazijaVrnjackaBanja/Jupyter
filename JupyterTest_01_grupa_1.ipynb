{
 "nbformat": 4,
 "nbformat_minor": 2,
 "metadata": {
  "language_info": {
   "name": "python",
   "codemirror_mode": {
    "name": "ipython",
    "version": 3
   },
   "version": "3.6.7"
  },
  "orig_nbformat": 2,
  "file_extension": ".py",
  "mimetype": "text/x-python",
  "name": "python",
  "npconvert_exporter": "python",
  "pygments_lexer": "ipython3",
  "version": 3
 },
 "cells": [
  {
   "cell_type": "markdown",
   "execution_count": null,
   "metadata": {},
   "outputs": [],
   "source": [
    "# Џупитер (Jupyter) тест број 1 група 1\n"
   ]
  },
  {
   "cell_type": "markdown",
   "execution_count": null,
   "metadata": {},
   "outputs": [],
   "source": [
    "## У ћелију испод унеси своје презиме, име и одељење"
   ]
  },
  {
   "cell_type": "markdown",
   "execution_count": null,
   "metadata": {},
   "outputs": [],
   "source": [
    " "
   ]
  },
  {
   "cell_type": "markdown",
   "execution_count": null,
   "metadata": {},
   "outputs": [],
   "source": [
    "**Задатак 1.** Направи ћелију испод ове и у њој напиши Пајтон израз који налази број који се добија када се разлици бројева 995 и 132 дода производ бројева 16 и 34.\n",
    "\n"
   ]
  },
  {
   "cell_type": "markdown",
   "execution_count": null,
   "metadata": {},
   "outputs": [],
   "source": [
    "**Задатак 2.** Променљива `BrLjudiNaSvetu_2019` има вредност 7.714.576.923. Процењује се да 27,8% становништва света живи у градовима. Направи ћелију испод и нађи колико људи живи ван градова."
   ]
  },
  {
   "cell_type": "markdown",
   "execution_count": null,
   "metadata": {},
   "outputs": [],
   "source": [
    "**Задатак 3.** Из неке библиотеке можемо увести функцију или константу која нам је потребна. Наредба\n",
    "\n",
    "`from math import pi`\n",
    "\n",
    "дословно значи: из библиотеке `math` увези појам `pi`. Тиме смо у програм увели име `pi` и слободно можемо да га користимо.\n",
    "\n",
    "Напиши Пајтон програм који одређује хипотенузу $c$ правоуглог троугла ако знамо његове катете $a$ и $b$. (Да се подсетимо, према Питагориној теореми је $c = \\sqrt{a^2 + b^2}$.)\n",
    "\n",
    "За овај програм је потребна функција `sqrt` која рачуна корен неког броја и која се такође налази у библиотеци `math`."
   ]
  },
  {
   "cell_type": "markdown",
   "execution_count": null,
   "metadata": {},
   "outputs": [],
   "source": [
    "**Задатак 4.**\n",
    "\n",
    "Kњига у књижари након снижења од 25% кошта 2430 динара. Колико је коштала пре снижења?"
   ]
  },
  {
   "cell_type": "markdown",
   "execution_count": null,
   "metadata": {},
   "outputs": [],
   "source": [
    "**Задатак 5.** Процењује се да је Кина на дан 1.7.2019. имала 1.420.062.022 становника. Број становника у Кини се сваке године повећа за 0,35%. Под претпоставком да се годишњи раст броја становника у Кини неће мењати, колико становника ће Кина имати 2020. године?"
   ]
  },
  {
   "cell_type": "markdown",
   "execution_count": null,
   "metadata": {},
   "outputs": [],
   "source": [
    "**Задатак 6.** Напиши Пајтон програм који учитава обим круга, а онда рачуна и штампа његову површину. (Помоћ: `pi` се налази у библиотеци `math`.)\n"
   ]
  },
  {
   "cell_type": "markdown",
   "execution_count": null,
   "metadata": {},
   "outputs": [],
   "source": [
    "**Задатак 7.** *Факторијел* броја $n$ је производ свих бројева од 1 до $n$ и означава се овако:\n",
    "\n",
    "$$n! = 1 \\cdot 2 \\cdot 3 \\cdot \\dots \\cdot n.$$\n",
    "\n",
    "Израчунај број 200! и утврди са колико нула се завршава. (Помоћ: библиотека `math` има функцију `factorial`.)"
   ]
  },
  {
   "cell_type": "markdown",
   "execution_count": null,
   "metadata": {},
   "outputs": [],
   "source": [
    "**Задатак 8.** Напиши Пајтон наредбу којом се налази дужина овог низа:\n"
   ]
  },
  {
   "cell_type": "code",
   "execution_count": null,
   "metadata": {},
   "outputs": [],
   "source": [
    "godine = [1000,  1500, 1650, 1750, 1804, 1850, 1900, 1930, 1950, 1960, 1974, 1980, 1987, 1999, 2011, 2020, 2023, 2030, 2037, 2045, 2055, 2100]\n"
   ]
  },
  {
   "cell_type": "markdown",
   "execution_count": null,
   "metadata": {},
   "outputs": [],
   "source": [
    "## Дијаграми"
   ]
  },
  {
   "cell_type": "code",
   "execution_count": null,
   "metadata": {},
   "outputs": [],
   "source": [
    "import matplotlib.pyplot as plt"
   ]
  },
  {
   "cell_type": "markdown",
   "execution_count": null,
   "metadata": {},
   "outputs": [],
   "source": [
    "**Задатак 9.** У наредној ћелији дати су подаци о маси (у килограмима) и дужини/висини (у центиметрима) једног дечака од његовог шестог месеца па до његових 6,5 година. Прикажи на дијаграму како се мењала његова маса у датом периоду.\n"
   ]
  },
  {
   "cell_type": "code",
   "execution_count": null,
   "metadata": {},
   "outputs": [],
   "source": [
    "merenja   = [\"6 mes\", \"1,5 god\", \"2,5 god\", \"3,5 god\", \"4,5 god\", \"5,5 god\", \"6,5 god\"]\n",
    "masaKG    = [5.9,     11.5,      14.8,      20.5,      22.0,      24.2,      29.0     ]\n",
    "visinaCM  = [62.0,    84.0,      97.0,      115.0,     122.5,     131.5,     135.0    ]"
   ]
  },
  {
   "cell_type": "markdown",
   "execution_count": null,
   "metadata": {},
   "outputs": [],
   "source": [
    "**Задатак 10**. \n",
    "Претпоставимо да је на полугодишту један ученик имао следеће оцене из наведених предмета:\n",
    "\n",
    "| Предмет | Оцена |\n",
    "|---------|-------|\n",
    "| Математика | 2 |\n",
    "| Српски | 4 |\n",
    "| Ликовно | 5 |\n",
    "| Историја | 3 |\n",
    "| Физичко | 5 |\n",
    "| Музичко | 4 |\n",
    "| Техничко | 5 |\n",
    "\n",
    "Податке можемо представити помоћу две листе, овако:"
   ]
  },
  {
   "cell_type": "code",
   "execution_count": 1,
   "metadata": {},
   "outputs": [],
   "source": [
    "predmeti = [\"mat\", \"srp\", \"lik\", \"ist\", \"fiz\", \"muz\", \"tio\"]\n",
    "ocene    = [2,     4,     5,     3,     5,     4,     5    ]"
   ]
  },
  {
   "cell_type": "markdown",
   "execution_count": null,
   "metadata": {},
   "outputs": [],
   "source": [
    "Представи их графички низовима стубића користећи функцију `bar`. Ова врста дијаграма се на енглеском зове *bar chart* (дијаграм са стубићима), а ми их зовемо *хистограми*:"
   ]
  },
  {
   "cell_type": "markdown",
   "execution_count": null,
   "metadata": {},
   "outputs": [],
   "source": [
    "**Задатак 11.** Биолози су до данас описали око два милиона врста живих бића. Сва она су подељена у пет царстава. Њихов приближан број по царствима је дат следећом табелом:\n",
    "\n",
    "| Царство  | Број врста |\n",
    "|--|--|\n",
    "| Животиње | 1.400.000 |\n",
    "| Биљке    | 290.000 |\n",
    "| Гљиве    | 100.000 |\n",
    "| Протисти | 200.000 |\n",
    "| Монере   | 10.000 |\n",
    "\n",
    "Прикажи ове податке хистограмом.\n"
   ]
  }
 ]
}