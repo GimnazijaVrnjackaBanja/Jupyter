{
 "cells": [
  {
   "cell_type": "markdown",
   "metadata": {},
   "source": [
    "# Џупитер (Jupyter) тест број 1 група 1\n"
   ]
  },
  {
   "cell_type": "markdown",
   "metadata": {},
   "source": [
    "## Сваки задатак носи 1 бод. Укупно има 11 задатака. \n",
    "## Критеријум за оцењивање: \n",
    "\n",
    "|  Бодови    |    Оцена |\n",
    "|--|--|\n",
    "|   1 - 3         |   1 |\n",
    "|   4 - 5         |   2 |\n",
    "|   6 - 7         |   3 |\n",
    "|   8 - 9         |   4 |\n",
    "|   10 - 11       |   5 |\n",
    "\n",
    "## На крају рада свеску преузмите са Биндер портала и снимите на ваш радни диск као **Notebook (.ipynb)** фајл."
   ]
  },
  {
   "cell_type": "markdown",
   "metadata": {},
   "source": [
    "## У ћелију испод унеси своје презиме, име и одељење"
   ]
  },
  {
   "cell_type": "markdown",
   "metadata": {},
   "source": [
    "Andrijana Joksimovic, II1"
   ]
  },
  {
   "cell_type": "markdown",
   "metadata": {},
   "source": []
  },
  {
   "cell_type": "markdown",
   "metadata": {},
   "source": [
    "**Задатак 1.** \n",
    "\n",
    "Направи ћелију испод ове и у њој напиши Пајтон израз који налази број који се добија када се разлици бројева 995 и 132 дода производ бројева 16 и 34.\n",
    "\n"
   ]
  },
  {
   "cell_type": "code",
   "execution_count": 2,
   "metadata": {},
   "outputs": [
    {
     "data": {
      "text/plain": [
       "1407"
      ]
     },
     "execution_count": 2,
     "metadata": {},
     "output_type": "execute_result"
    }
   ],
   "source": [
    "(995-132)+(16*34)"
   ]
  },
  {
   "cell_type": "markdown",
   "metadata": {},
   "source": [
    "**Задатак 2.** \n",
    "\n",
    "Променљива `BrLjudiNaSvetu_2019` има вредност 7.714.576.923. Процењује се да 27,8% становништва света живи у градовима. Направи ћелију испод и нађи колико људи живи ван градова."
   ]
  },
  {
   "cell_type": "code",
   "execution_count": 3,
   "metadata": {},
   "outputs": [
    {
     "data": {
      "text/plain": [
       "5569924538.406"
      ]
     },
     "execution_count": 3,
     "metadata": {},
     "output_type": "execute_result"
    }
   ],
   "source": [
    "BrLjudiNaSvetu_2019=7714576923\n",
    "BrLjudiNaSvetu_2019-BrLjudiNaSvetu_2019*27.8/100"
   ]
  },
  {
   "cell_type": "markdown",
   "metadata": {},
   "source": [
    "**Задатак 3.** \n",
    "\n",
    "Из неке библиотеке можемо увести функцију или константу која нам је потребна. Наредба\n",
    "\n",
    "`from math import pi`\n",
    "\n",
    "дословно значи: из библиотеке `math` увези појам `pi`. Тиме смо у програм увели име `pi` и слободно можемо да га користимо.\n",
    "\n",
    "Напиши Пајтон програм који одређује хипотенузу $c$ правоуглог троугла ако знамо његове катете $a$ и $b$. (Да се подсетимо, према Питагориној теореми је $c = \\sqrt{a^2 + b^2}$.)\n",
    "\n",
    "За овај програм је потребна функција `sqrt` која рачуна корен неког броја и која се такође налази у библиотеци `math`."
   ]
  },
  {
   "cell_type": "code",
   "execution_count": 4,
   "metadata": {},
   "outputs": [
    {
     "name": "stdout",
     "output_type": "stream",
     "text": [
      "Hipotenuza c iznosi 18.027756377319946\n"
     ]
    }
   ],
   "source": [
    "from math import sqrt\n",
    "a = 10\n",
    "b = 15\n",
    "c = sqrt(a**2 + b**2)\n",
    "print (\"Hipotenuza c iznosi\", c)"
   ]
  },
  {
   "cell_type": "markdown",
   "metadata": {},
   "source": [
    "**Задатак 4.**\n",
    "\n",
    "Kњига у књижари након снижења од 25% кошта 2430 динара. Колико је коштала пре снижења?"
   ]
  },
  {
   "cell_type": "code",
   "execution_count": 11,
   "metadata": {},
   "outputs": [
    {
     "name": "stdout",
     "output_type": "stream",
     "text": [
      "3240.0\n"
     ]
    }
   ],
   "source": [
    "prva_cena = 2430 * 100 / 75\n",
    "print (prva_cena)"
   ]
  },
  {
   "cell_type": "markdown",
   "metadata": {},
   "source": [
    "**Задатак 5.** \n",
    "\n",
    "Процењује се да је Кина на дан 1.7.2019. имала 1.420.062.022 становника. Број становника у Кини се сваке године повећа за 0,35%. Под претпоставком да се годишњи раст броја становника у Кини неће мењати, колико становника ће Кина имати 2020. године?"
   ]
  },
  {
   "cell_type": "code",
   "execution_count": 12,
   "metadata": {},
   "outputs": [
    {
     "name": "stdout",
     "output_type": "stream",
     "text": [
      "1425032239.077\n"
     ]
    }
   ],
   "source": [
    "kina = 1420062022\n",
    "kina2020= kina + kina * 0.35 / 100\n",
    "print (kina2020)"
   ]
  },
  {
   "cell_type": "markdown",
   "metadata": {},
   "source": [
    "**Задатак 6.** \n",
    "\n",
    "Напиши Пајтон програм који учитава обим круга, а онда рачуна и штампа његову површину. (Помоћ: `pi` се налази у библиотеци `math`.)\n"
   ]
  },
  {
   "cell_type": "code",
   "execution_count": 13,
   "metadata": {},
   "outputs": [
    {
     "name": "stdout",
     "output_type": "stream",
     "text": [
      "Obim kruga iznosi 31.41592653589793\n",
      "Povrsina kruga iznosi 78.53981633974483\n"
     ]
    }
   ],
   "source": [
    "from math import pi\n",
    "r=5\n",
    "obim = 2 * r * pi\n",
    "povrsina= r**2 * pi\n",
    "print (\"Obim kruga iznosi\", obim)\n",
    "print (\"Povrsina kruga iznosi\", povrsina)"
   ]
  },
  {
   "cell_type": "markdown",
   "metadata": {},
   "source": [
    "**Задатак 7.** \n",
    "\n",
    "*Факторијел* броја $n$ је производ свих бројева од 1 до $n$ и означава се овако:\n",
    "\n",
    "$$n! = 1 \\cdot 2 \\cdot 3 \\cdot \\dots \\cdot n.$$\n",
    "\n",
    "Израчунај број 200! и утврди са колико нула се завршава. (Помоћ: библиотека `math` има функцију `factorial`.)"
   ]
  },
  {
   "cell_type": "code",
   "execution_count": 20,
   "metadata": {},
   "outputs": [
    {
     "name": "stdout",
     "output_type": "stream",
     "text": [
      "788657867364790503552363213932185062295135977687173263294742533244359449963403342920304284011984623904177212138919638830257642790242637105061926624952829931113462857270763317237396988943922445621451664240254033291864131227428294853277524242407573903240321257405579568660226031904170324062351700858796178922222789623703897374720000000000000000000000000000000000000000000000000\n"
     ]
    }
   ],
   "source": [
    "from math import factorial\n",
    "print (factorial(200))"
   ]
  },
  {
   "cell_type": "markdown",
   "metadata": {},
   "source": [
    "**Задатак 8.** \n",
    "\n",
    "Напиши Пајтон наредбу којом се налази дужина овог низа:\n"
   ]
  },
  {
   "cell_type": "code",
   "execution_count": 14,
   "metadata": {},
   "outputs": [],
   "source": [
    "godine = [1000,  1500, 1650, 1750, 1804, 1850, 1900, 1930, 1950, 1960, 1974, 1980, 1987, 1999, 2011, 2020, 2023, 2030, 2037, 2045, 2055, 2100]\n"
   ]
  },
  {
   "cell_type": "code",
   "execution_count": 15,
   "metadata": {},
   "outputs": [
    {
     "name": "stdout",
     "output_type": "stream",
     "text": [
      "22\n"
     ]
    }
   ],
   "source": [
    "duzina=len(godine)\n",
    "print (duzina)"
   ]
  },
  {
   "cell_type": "markdown",
   "metadata": {},
   "source": [
    "## Дијаграми"
   ]
  },
  {
   "cell_type": "code",
   "execution_count": null,
   "metadata": {},
   "outputs": [],
   "source": [
    "import matplotlib.pyplot as plt"
   ]
  },
  {
   "cell_type": "markdown",
   "metadata": {},
   "source": [
    "**Задатак 9.** \n",
    "\n",
    "У наредној ћелији дати су подаци о маси (у килограмима) и дужини/висини (у центиметрима) једног дечака од његовог шестог месеца па до његових 6,5 година. Прикажи на дијаграму како се мењала његова маса у датом периоду.\n"
   ]
  },
  {
   "cell_type": "code",
   "execution_count": 22,
   "metadata": {},
   "outputs": [
    {
     "name": "stdout",
     "output_type": "stream",
     "text": [
      "[15.34859521331946, 0, 0, 0, 0, 0, 0]\n",
      "[15.34859521331946, 16.298185941043087, 0, 0, 0, 0, 0]\n",
      "[15.34859521331946, 16.298185941043087, 15.729620576044214, 0, 0, 0, 0]\n",
      "[15.34859521331946, 16.298185941043087, 15.729620576044214, 15.500945179584123, 0, 0, 0]\n",
      "[15.34859521331946, 16.298185941043087, 15.729620576044214, 15.500945179584123, 14.660558100791334, 0, 0]\n",
      "[15.34859521331946, 16.298185941043087, 15.729620576044214, 15.500945179584123, 14.660558100791334, 13.994708612239588, 0]\n",
      "[15.34859521331946, 16.298185941043087, 15.729620576044214, 15.500945179584123, 14.660558100791334, 13.994708612239588, 15.912208504801095]\n"
     ]
    }
   ],
   "source": [
    "merenja   = [\"6 mes\", \"1,5 god\", \"2,5 god\", \"3,5 god\", \"4,5 god\", \"5,5 god\", \"6,5 god\"]\n",
    "masaKG    = [5.9,     11.5,      14.8,      20.5,      22.0,      24.2,      29.0     ]\n",
    "visinaCM  = [62.0,    84.0,      97.0,      115.0,     122.5,     131.5,     135.0    ]\n",
    "BMI = [  0, 0, 0, 0, 0, 0, 0 ]\n",
    "for i in range (0,7):\n",
    "    BMI[i] = masaKG[i] / (visinaCM[i] / 100.0) **2\n",
    "    print (BMI)"
   ]
  },
  {
   "cell_type": "markdown",
   "metadata": {},
   "source": [
    "**Задатак 10**. \n",
    "\n",
    "Претпоставимо да је на полугодишту један ученик имао следеће оцене из наведених предмета:\n",
    "\n",
    "| Предмет | Оцена |\n",
    "|---------|-------|\n",
    "| Математика | 2 |\n",
    "| Српски | 4 |\n",
    "| Ликовно | 5 |\n",
    "| Историја | 3 |\n",
    "| Физичко | 5 |\n",
    "| Музичко | 4 |\n",
    "| Техничко | 5 |\n",
    "\n",
    "Податке можемо представити помоћу две листе, овако:"
   ]
  },
  {
   "cell_type": "code",
   "execution_count": 16,
   "metadata": {},
   "outputs": [],
   "source": [
    "predmeti = [\"mat\", \"srp\", \"lik\", \"ist\", \"fiz\", \"muz\", \"tio\"]\n",
    "ocene    = [2,     4,     5,     3,     5,     4,     5    ]"
   ]
  },
  {
   "cell_type": "markdown",
   "metadata": {},
   "source": [
    "Представи их графички низовима стубића користећи функцију `bar`. Ова врста дијаграма се на енглеском зове *bar chart* (дијаграм са стубићима), а ми их зовемо *хистограми*:"
   ]
  },
  {
   "cell_type": "code",
   "execution_count": 18,
   "metadata": {},
   "outputs": [
    {
     "data": {
      "image/png": "[encoded data removed]",
      "text/plain": [
       "<Figure size 432x288 with 1 Axes>"
      ]
     },
     "metadata": {
      "needs_background": "light"
     },
     "output_type": "display_data"
    }
   ],
   "source": [
    "import matplotlib.pyplot as plt\n",
    "plt.bar (predmeti, ocene)\n",
    "plt.title (\"Ocene na polugodistu\")\n",
    "plt.show()"
   ]
  },
  {
   "cell_type": "markdown",
   "metadata": {},
   "source": [
    "**Задатак 11.** \n",
    "\n",
    "Биолози су до данас описали око два милиона врста живих бића. Сва она су подељена у пет царстава. Њихов приближан број по царствима је дат следећом табелом:\n",
    "\n",
    "| Царство  | Број врста |\n",
    "|--|--|\n",
    "| Животиње | 1.400.000 |\n",
    "| Биљке    | 290.000 |\n",
    "| Гљиве    | 100.000 |\n",
    "| Протисти | 200.000 |\n",
    "| Монере   | 10.000 |\n",
    "\n",
    "Прикажи ове податке хистограмом.\n"
   ]
  },
  {
   "cell_type": "code",
   "execution_count": 19,
   "metadata": {},
   "outputs": [
    {
     "data": {
      "image/png": "[encoded data removed]",
      "text/plain": [
       "<Figure size 720x360 with 1 Axes>"
      ]
     },
     "metadata": {
      "needs_background": "light"
     },
     "output_type": "display_data"
    }
   ],
   "source": [
    "carstva = (\"Zivotinje\", \"Biljke\", \"Gljive\", \"Protisti\", \"Monere\")\n",
    "Broj_vrsta = (1400000, 290000, 100000, 200000, 10000)\n",
    "plt.figure(figsize=(10, 5))\n",
    "plt.bar(carstva, Broj_vrsta, color=\"b\")\n",
    "plt.title(\"Broj zivotinjskih vrsta\")\n",
    "plt.show()"
   ]
  },
  {
   "cell_type": "code",
   "execution_count": null,
   "metadata": {},
   "outputs": [],
   "source": []
  }
 ],
 "metadata": {
  "file_extension": ".py",
  "kernelspec": {
   "display_name": "Python 3",
   "language": "python",
   "name": "python3"
  },
  "language_info": {
   "codemirror_mode": {
    "name": "ipython",
    "version": 3
   },
   "file_extension": ".py",
   "mimetype": "text/x-python",
   "name": "python",
   "nbconvert_exporter": "python",
   "pygments_lexer": "ipython3",
   "version": "3.7.9"
  },
  "mimetype": "text/x-python",
  "name": "python",
  "npconvert_exporter": "python",
  "pygments_lexer": "ipython3",
  "version": 3
 },
 "nbformat": 4,
 "nbformat_minor": 2
}
